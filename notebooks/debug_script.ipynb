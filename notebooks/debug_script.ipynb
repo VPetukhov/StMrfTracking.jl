{
 "cells": [
  {
   "cell_type": "code",
   "execution_count": 119,
   "metadata": {
    "init_cell": true
   },
   "outputs": [
    {
     "name": "stderr",
     "output_type": "stream",
     "text": [
      "WARNING: replacing module StMrfTracking\n"
     ]
    }
   ],
   "source": [
    "include(\"../src/StMrfTracking.jl\")\n",
    "import StMrfTracking\n",
    "\n",
    "using ProgressMeter\n",
    "using PyCall\n",
    "using PyPlot\n",
    "import Images\n",
    "\n",
    "@pyimport imageio\n",
    "\n",
    "T = StMrfTracking.Tracking;\n",
    "SM = StMrfTracking.StMrf;\n",
    "L = StMrfTracking.Labeler;\n",
    "B = StMrfTracking.ImgBlock;"
   ]
  },
  {
   "cell_type": "code",
   "execution_count": 88,
   "metadata": {},
   "outputs": [
    {
     "name": "stderr",
     "output_type": "stream",
     "text": [
      "WARNING: redefining constant video_file\n",
      "WARNING: redefining constant json_file\n",
      "WARNING: redefining constant vehicle_direction\n",
      "WARNING: redefining constant block_width\n"
     ]
    }
   ],
   "source": [
    "const video_file = \"/home/viktor/VirtualBox VMs/Shared/VehicleTracking/vehicle_videos/4K_p2.mp4\"\n",
    "const json_file = \"/home/viktor/.julia/v0.6/StMrfTracking/scripts/config_4k_down.json\"\n",
    "max_out_frames = -1\n",
    "config = JSON.parsefile(json_file);\n",
    "const suppress_shadows = true\n",
    "const quite = true\n",
    "\n",
    "const slit_x = config[\"slit\"][\"x\"];\n",
    "const slit_y = config[\"slit\"][\"y\"];\n",
    "const slit_width = config[\"slit\"][\"width\"];\n",
    "const vehicle_direction = config[\"slit\"][\"vehicle_direction\"];\n",
    "\n",
    "const frame_step = config[\"video\"][\"frame_step\"];\n",
    "const n_background_init_frames = config[\"video\"][\"n_background_init_frames\"];\n",
    "const n_background_init_iters = config[\"video\"][\"n_background_init_iters\"];\n",
    "\n",
    "const block_width = config[\"blocks\"][\"width\"];\n",
    "const block_height = config[\"blocks\"][\"height\"];\n",
    "\n",
    "const threshold = config[\"algorithm\"][\"background_diff_threshold\"];"
   ]
  },
  {
   "cell_type": "code",
   "execution_count": 89,
   "metadata": {},
   "outputs": [],
   "source": [
    "reader = imageio.get_reader(video_file);\n",
    "if max_out_frames <= 0\n",
    "    max_out_frames = reader[:get_meta_data]()[\"nframes\"]\n",
    "end\n",
    "\n",
    "if !quite\n",
    "    T.plot_frame(T.preprocess_frame(reader[:get_data](0)), slit_x, slit_y, slit_width, block_height)\n",
    "    PyPlot.show()\n",
    "end"
   ]
  },
  {
   "cell_type": "code",
   "execution_count": 5,
   "metadata": {},
   "outputs": [
    {
     "name": "stderr",
     "output_type": "stream",
     "text": [
      "\u001b[32mReading data...100%|████████████████████████████████████| Time: 0:00:58\u001b[39m\n",
      "\u001b[32mBackground initialization...100%|███████████████████████| Time: 0:01:22\u001b[39m\n"
     ]
    }
   ],
   "source": [
    "const frames = frames = T.read_all_data(reader; frame_step=frame_step, max_frames=max_out_frames);\n",
    "background = T.init_background(frames[1:min(n_background_init_frames, size(frames, 1))]; max_iters=n_background_init_iters);"
   ]
  },
  {
   "cell_type": "code",
   "execution_count": 120,
   "metadata": {},
   "outputs": [
    {
     "name": "stdout",
     "output_type": "stream",
     "text": [
      "Start video processing...\n"
     ]
    },
    {
     "name": "stderr",
     "output_type": "stream",
     "text": [
      "WARNING: redefining constant out_suffix\n"
     ]
    }
   ],
   "source": [
    "blocks = B.init_field(size(background)[1:2], (block_height, block_width))\n",
    "\n",
    "slit_coords = [B.get_block_coords(slit_y, slit_x + i * block_width, block_height, block_width) for i in 1:floor(Int, slit_width / block_width)]\n",
    "slit_line = [blocks[c...] for c in slit_coords];\n",
    "\n",
    "const out_suffix = suppress_shadows ? \".out_sh\" :  \".out\";\n",
    "out_video_file = join(splitext(video_file), out_suffix);\n",
    "writer = imageio.get_writer(out_video_file, fps=reader[:get_meta_data]()[\"fps\"] / frame_step);\n",
    "\n",
    "println(\"Start video processing...\")\n",
    "new_object_id = 1;"
   ]
  },
  {
   "cell_type": "code",
   "execution_count": 121,
   "metadata": {},
   "outputs": [
    {
     "name": "stderr",
     "output_type": "stream",
     "text": [
      "WARNING:root:IMAGEIO FFMPEG_WRITER WARNING: input image is not divisible by macro_block_size=16, resizing from (480, 600) to (480, 608) to ensure video compatibility with most codecs and players. To prevent resizing, make your input image divisible by the macro_block_size or set the macro_block_size to None (risking incompatibility). You may also see a FFMPEG warning concerning speedloss due to data not being aligned.\n",
      "[swscaler @ 0x130c1e0] Warning: data is not aligned! This can lead to a speedloss\n",
      "\u001b[32mProcessing video...100%|████████████████████████████████| Time: 0:03:57\u001b[39m\n"
     ]
    }
   ],
   "source": [
    "f_id = 1\n",
    "@showprogress 1 \"Processing video...\" for f_id in 1:(size(frames, 1) - 1)\n",
    "    global frame = frames[f_id];\n",
    "    global prev_pixel_map = B.blocks_to_object_map(blocks);\n",
    "    SM.update_slit_objects!(blocks, slit_coords, frame, background, new_object_id; threshold=threshold);\n",
    "    \n",
    "    global old_frame = frame;\n",
    "    global frame = frames[f_id + 1];\n",
    "\n",
    "    global obj_ids_map = map(b -> b.object_id, blocks);\n",
    "\n",
    "    global object_ids = sort(unique(obj_ids_map));\n",
    "    global object_ids = object_ids[object_ids .> 0]\n",
    "    global group_coords = [collect(zip(findn(obj_ids_map .== id)...)) for id in object_ids]\n",
    "    global motion_vecs = [SM.find_motion_vector(blocks, frame, old_frame, gc) for gc in group_coords]\n",
    "    \n",
    "    global labels = zeros(Int, size(blocks))\n",
    "    if size(motion_vecs, 1) != 0\n",
    "        global motion_vecs_rounded = [SM.round_motion_vector(mv, block_width, block_height) for mv in motion_vecs]\n",
    "        global foreground = T.subtract_background(frame, background, threshold)\n",
    "\n",
    "        if suppress_shadows\n",
    "            global foreground = T.suppress_shadows(foreground, frame, background)\n",
    "        end\n",
    "        global new_map = SM.update_object_ids(blocks, obj_ids_map, motion_vecs_rounded, group_coords, foreground);\n",
    "\n",
    "        if vehicle_direction == \"up\"\n",
    "            new_map[map(x -> x.end_y, blocks) .> slit_y + block_height] = Set();\n",
    "        else\n",
    "            new_map[map(x -> x.end_y, blocks) .< slit_y] = Set();\n",
    "        end\n",
    "\n",
    "        labels = L.label_map_gco(blocks, new_map, motion_vecs, prev_pixel_map, frame, old_frame);\n",
    "        labels = Images.label_components(labels, trues(3, 3))\n",
    "    end\n",
    "    \n",
    "    new_object_id = maximum(labels) + 1\n",
    "    B.set_block_ids!(blocks, labels)\n",
    "    \n",
    "    obj_map = B.blocks_to_object_map(blocks)\n",
    "    out_frame = T.plot_frame_to_array(frame, slit_x, slit_y, slit_width, block_height; object_map=obj_map, plot_boxes=true)\n",
    "    writer[:append_data](out_frame)\n",
    "end"
   ]
  },
  {
   "cell_type": "code",
   "execution_count": 126,
   "metadata": {},
   "outputs": [],
   "source": [
    "writer[:close]()"
   ]
  }
 ],
 "metadata": {
  "hide_input": false,
  "kernelspec": {
   "display_name": "Julia 0.6.2",
   "language": "julia",
   "name": "julia-0.6"
  },
  "language_info": {
   "file_extension": ".jl",
   "mimetype": "application/julia",
   "name": "julia",
   "version": "0.6.2"
  },
  "toc": {
   "nav_menu": {},
   "number_sections": false,
   "sideBar": true,
   "skip_h1_title": false,
   "toc_cell": false,
   "toc_position": {},
   "toc_section_display": "block",
   "toc_window_display": false
  }
 },
 "nbformat": 4,
 "nbformat_minor": 2
}
